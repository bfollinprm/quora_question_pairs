{
 "cells": [
  {
   "cell_type": "code",
   "execution_count": 1,
   "metadata": {
    "collapsed": true,
    "deletable": true,
    "editable": true
   },
   "outputs": [],
   "source": [
    "special_questpairs = [83633,242349]"
   ]
  },
  {
   "cell_type": "code",
   "execution_count": 2,
   "metadata": {
    "collapsed": false,
    "deletable": true,
    "editable": true
   },
   "outputs": [],
   "source": [
    "import pandas as pd\n",
    "import numpy as np\n",
    "import seaborn as sbn\n",
    "%matplotlib inline\n",
    "import pylab as plt\n",
    "from src import cleaning, model\n",
    "from src.posfeatures import POS_Tagger"
   ]
  },
  {
   "cell_type": "code",
   "execution_count": 3,
   "metadata": {
    "collapsed": false,
    "deletable": true,
    "editable": true
   },
   "outputs": [
    {
     "data": {
      "text/plain": [
       "<module 'src.data' from 'src/data.pyc'>"
      ]
     },
     "execution_count": 3,
     "metadata": {},
     "output_type": "execute_result"
    }
   ],
   "source": [
    "from src import data\n",
    "reload(data)"
   ]
  },
  {
   "cell_type": "code",
   "execution_count": 4,
   "metadata": {
    "collapsed": false,
    "deletable": true,
    "editable": true
   },
   "outputs": [],
   "source": [
    "train = data.DataContainer('data/train.csv')"
   ]
  },
  {
   "cell_type": "code",
   "execution_count": 5,
   "metadata": {
    "collapsed": false,
    "deletable": true,
    "editable": true
   },
   "outputs": [],
   "source": [
    "train.clean_questions()"
   ]
  },
  {
   "cell_type": "code",
   "execution_count": 6,
   "metadata": {
    "collapsed": true,
    "deletable": true,
    "editable": true
   },
   "outputs": [],
   "source": [
    "from gensim.models import Doc2Vec\n",
    "from gensim.models.doc2vec import TaggedDocument"
   ]
  },
  {
   "cell_type": "code",
   "execution_count": 7,
   "metadata": {
    "collapsed": false,
    "deletable": true,
    "editable": true
   },
   "outputs": [
    {
     "name": "stdout",
     "output_type": "stream",
     "text": [
      "[TaggedDocument(words=[u'What', u'is', u'the', u'step', u'by', u'step', u'guide', u'to', u'invest', u'in', u'share', u'market', u'in', u'india'], tags=[0]), TaggedDocument(words=[u'What', u'is', u'the', u'story', u'of', u'Kohinoor', u'Koh', u'i', u'Noor', u'Diamond'], tags=[1]), TaggedDocument(words=[u'How', u'can', u'I', u'increase', u'the', u'speed', u'of', u'my', u'internet', u'connection', u'while', u'using', u'a', u'VPN'], tags=[2]), TaggedDocument(words=[u'Why', u'am', u'I', u'mentally', u'very', u'lonely', u'How', u'can', u'I', u'solve', u'it'], tags=[3]), TaggedDocument(words=[u'Which', u'one', u'dissolve', u'in', u'water', u'quikly', u'sugar', u'salt', u'methane', u'and', u'carbon', u'di', u'oxide'], tags=[4]), TaggedDocument(words=[u'Astrology', u'I', u'am', u'a', u'Capricorn', u'Sun', u'Cap', u'moon', u'and', u'cap', u'rising', u'what', u'does', u'that', u'say', u'about', u'me'], tags=[5]), TaggedDocument(words=[u'Should', u'I', u'buy', u'tiago'], tags=[6]), TaggedDocument(words=[u'How', u'can', u'I', u'be', u'a', u'good', u'geologist'], tags=[7]), TaggedDocument(words=[u'When', u'do', u'you', u'use', u'instead', u'of'], tags=[8]), TaggedDocument(words=[u'Motorola', u'company', u'Can', u'I', u'hack', u'my', u'Charter', u'Motorolla', u'DCX3400'], tags=[9])]\n"
     ]
    }
   ],
   "source": [
    "corpus = train.question1.tolist() + train.question2.tolist()\n",
    "documents = [TaggedDocument(s.split(), [i]) for i, s in enumerate(corpus) if isinstance(s, unicode)]\n",
    "print documents[:10]\n",
    "\n"
   ]
  },
  {
   "cell_type": "code",
   "execution_count": null,
   "metadata": {
    "collapsed": false,
    "deletable": true,
    "editable": true
   },
   "outputs": [],
   "source": [
    "model = Doc2Vec(size = 300, min_count = 1, iter = 55)\n",
    "model.build_vocab(documents)\n",
    "model.train(documents)"
   ]
  },
  {
   "cell_type": "code",
   "execution_count": null,
   "metadata": {
    "collapsed": false,
    "deletable": true,
    "editable": true
   },
   "outputs": [],
   "source": [
    "\n",
    "q1vecs = train.question1.apply(lambda x: model.infer_vector(x.split()))\n",
    "q2vecs = train.question1.apply(lambda x: model.infer_vector(x.split()))\n",
    "\n",
    "print q1vecs.loc[0]"
   ]
  },
  {
   "cell_type": "code",
   "execution_count": null,
   "metadata": {
    "collapsed": false,
    "deletable": true,
    "editable": true,
    "scrolled": true
   },
   "outputs": [],
   "source": [
    "train.get_char_features(suffix = '_stops')\n",
    "train.get_char_features(remove_stopwords = True)\n",
    "train.get_pos_features()\n",
    "train.get_ngram_features(n = 1, suffix = '_stops')\n",
    "train.get_ngram_features(n = 1, remove_stopwords=True)\n",
    "train.get_ngram_features(n = 2, suffix = '_stops')\n",
    "train.get_ngram_features(n = 2, remove_stopwords = True)\n",
    "train.get_fuzzy_features(remove_stopwords = False, suffix = '_stops')\n",
    "train.get_fuzzy_features(remove_stopwords = True, suffix = '')\n",
    "train.get_vector_features(vectorizer = 'QuoraQuestions', n_principle_directions = 30, suffix = 'QQ')\n",
    "train.get_vector_features(vectorizer = 'GoogleNews', n_principle_directions = 30, suffix = 'GG')"
   ]
  },
  {
   "cell_type": "code",
   "execution_count": null,
   "metadata": {
    "collapsed": false,
    "deletable": true,
    "editable": true
   },
   "outputs": [],
   "source": [
    "[c for c in train.features.columns]\n",
    "train.features.shape\n",
    "#from scipy.spatial import distance\n",
    "#distance.cosine(np.ones(20), np.arange(20))"
   ]
  },
  {
   "cell_type": "code",
   "execution_count": null,
   "metadata": {
    "collapsed": false,
    "deletable": true,
    "editable": true
   },
   "outputs": [],
   "source": [
    "index = 242349\n",
    "train.question1.loc[index], train.question2.loc[index]\n"
   ]
  },
  {
   "cell_type": "code",
   "execution_count": null,
   "metadata": {
    "collapsed": false,
    "deletable": true,
    "editable": true
   },
   "outputs": [],
   "source": [
    "bst = model.train_xgb(train.features,train.target, num_rounds = 200, eta = 0.05, max_depth = 8, gamma = 0)"
   ]
  },
  {
   "cell_type": "code",
   "execution_count": null,
   "metadata": {
    "collapsed": false,
    "deletable": true,
    "editable": true
   },
   "outputs": [],
   "source": [
    "import xgboost as xgb\n",
    "xgb.plot_importance(bst)"
   ]
  },
  {
   "cell_type": "code",
   "execution_count": null,
   "metadata": {
    "collapsed": false,
    "deletable": true,
    "editable": true
   },
   "outputs": [],
   "source": [
    "###ngram features\n",
    "train.get_ngram_features(n = 1, remove_stopwords=False, suffix = '_stops')\n",
    "train.get_ngram_features(n = 1, remove_stopwords=True,)\n",
    "train.get_ngram_features(n = 2, remove_stopwords=False, suffix = '_stops')\n",
    "train.get_ngram_features(n = 2, remove_stopwords=True,)\n",
    "# train.get_ngram_features(n = 3, remove_stopwords=False, suffix = '_stops')\n",
    "# train.get_ngram_features(n = 3, remove_stopwords=True,)\n",
    "# train.get_ngram_features(n = 4, remove_stopwords=False, suffix = '_stops')\n",
    "# train.get_ngram_features(n = 4, remove_stopwords=True,)\n",
    "# train.get_ngram_features(n = 5, remove_stopwords=False, suffix = '_stops')\n",
    "# train.get_ngram_features(n = 5, remove_stopwords=True,)"
   ]
  },
  {
   "cell_type": "code",
   "execution_count": null,
   "metadata": {
    "collapsed": false,
    "deletable": true,
    "editable": true
   },
   "outputs": [],
   "source": [
    "bst = model.train_xgb(train.features,train.target, num_rounds = 400, eta = 0.1, max_depth = 4, gamma = 0)"
   ]
  },
  {
   "cell_type": "code",
   "execution_count": null,
   "metadata": {
    "collapsed": false,
    "deletable": true,
    "editable": true
   },
   "outputs": [],
   "source": [
    "bst = model.train_xgb(train.features,train.target, num_rounds = 400, eta = 0.1, max_depth = 4, gamma = 0)\n",
    "xgb.plot_importance(bst)"
   ]
  },
  {
   "cell_type": "code",
   "execution_count": null,
   "metadata": {
    "collapsed": false,
    "deletable": true,
    "editable": true
   },
   "outputs": [],
   "source": [
    "train.get_fuzzy_features(remove_stopwords = False, suffix = '_stops')\n",
    "train.get_fuzzy_features(remove_stopwords = True)"
   ]
  },
  {
   "cell_type": "code",
   "execution_count": null,
   "metadata": {
    "collapsed": false,
    "deletable": true,
    "editable": true
   },
   "outputs": [],
   "source": [
    "bst = model.train_xgb(train.features,train.target, num_rounds = 400, eta = 0.1, max_depth = 4, gamma = 0)\n",
    "xgb.plot_importance(bst)"
   ]
  },
  {
   "cell_type": "code",
   "execution_count": null,
   "metadata": {
    "collapsed": false,
    "deletable": true,
    "editable": true
   },
   "outputs": [],
   "source": [
    "train.get_vector_features(vectorizer = 'QuoraQuestions', n_principle_directions = 10, suffix = 'QQ')\n",
    "train.get_vector_features(vectorizer = 'GoogleNews', n_principle_directions = 10, suffix = 'GG')"
   ]
  },
  {
   "cell_type": "code",
   "execution_count": null,
   "metadata": {
    "collapsed": false,
    "deletable": true,
    "editable": true
   },
   "outputs": [],
   "source": [
    "bst = model.train_xgb(train.features,train.target, num_rounds = 400, eta = 0.1, max_depth = 4, gamma = 0)\n",
    "xgb.plot_importance(bst)"
   ]
  },
  {
   "cell_type": "code",
   "execution_count": null,
   "metadata": {
    "collapsed": false,
    "deletable": true,
    "editable": true
   },
   "outputs": [],
   "source": [
    "from src.model import reweight_training_set\n",
    "X,y = reweight_training_set(train.features, train.target)"
   ]
  },
  {
   "cell_type": "code",
   "execution_count": null,
   "metadata": {
    "collapsed": false,
    "deletable": true,
    "editable": true
   },
   "outputs": [],
   "source": [
    "reload(model)\n",
    "bst = model.train_xgb(X,y, num_rounds = 400, eta = 0.1, max_depth = 8, gamma = 0)\n",
    "xgb.plot_importance(bst)"
   ]
  },
  {
   "cell_type": "code",
   "execution_count": null,
   "metadata": {
    "collapsed": false,
    "deletable": true,
    "editable": true
   },
   "outputs": [],
   "source": [
    "dval = xgb.DMatrix(X_val, label = y_val, missing = np.NAN)\n",
    "prop = bst.predict(dval)"
   ]
  },
  {
   "cell_type": "code",
   "execution_count": null,
   "metadata": {
    "collapsed": false,
    "deletable": true,
    "editable": true
   },
   "outputs": [],
   "source": [
    "features = train.features\n",
    "features['target'] = train.target\n",
    "plt.figure()\n",
    "feature = 'frac_common_1grams'\n",
    "features.loc[features.target == 0, feature].plot.hist(normed = True, bins = 30, ax = plt.gca(), alpha = 0.5)\n",
    "features.loc[features.target == 1, feature].plot.hist(normed = True, bins = 30, ax = plt.gca(),alpha = 0.5)\n",
    "\n",
    "\n",
    "\n"
   ]
  },
  {
   "cell_type": "code",
   "execution_count": null,
   "metadata": {
    "collapsed": false,
    "deletable": true,
    "editable": true
   },
   "outputs": [],
   "source": [
    "sbn.lmplot(\n",
    "    'frac_common_1grams', \n",
    "    'Tsort', \n",
    "    data = features, \n",
    "    hue = 'target', \n",
    "    fit_reg=False,\n",
    "    scatter_kws={\"marker\": \"D\",\n",
    "                 \"s\": 10,\n",
    "                 'alpha' : 0.2\n",
    "                },\n",
    "    \n",
    ")"
   ]
  },
  {
   "cell_type": "code",
   "execution_count": null,
   "metadata": {
    "collapsed": false,
    "deletable": true,
    "editable": true
   },
   "outputs": [],
   "source": [
    "pd.DataFrame(train.target.values, columns = ['is_duplicate']).to_csv('data/target.csv')"
   ]
  },
  {
   "cell_type": "code",
   "execution_count": null,
   "metadata": {
    "collapsed": false,
    "deletable": true,
    "editable": true
   },
   "outputs": [],
   "source": [
    "xgb.plot_importance?"
   ]
  },
  {
   "cell_type": "code",
   "execution_count": null,
   "metadata": {
    "collapsed": true,
    "deletable": true,
    "editable": true
   },
   "outputs": [],
   "source": []
  }
 ],
 "metadata": {
  "kernelspec": {
   "display_name": "Python 2",
   "language": "python",
   "name": "python2"
  },
  "language_info": {
   "codemirror_mode": {
    "name": "ipython",
    "version": 2
   },
   "file_extension": ".py",
   "mimetype": "text/x-python",
   "name": "python",
   "nbconvert_exporter": "python",
   "pygments_lexer": "ipython2",
   "version": "2.7.12"
  }
 },
 "nbformat": 4,
 "nbformat_minor": 2
}
